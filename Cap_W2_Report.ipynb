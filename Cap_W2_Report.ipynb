{
    "nbformat_minor": 2, 
    "cells": [
        {
            "source": "## The Most Overrated and Underrated Restaurants Nearby", 
            "cell_type": "markdown", 
            "metadata": {}
        }, 
        {
            "source": "### 1. Introduction/Business Problem", 
            "cell_type": "markdown", 
            "metadata": {}
        }, 
        {
            "source": "When people choose a new restaurant to try, they will often first go on-line to compare the ratings of several potential restaurants and then pick the one with higher rating to have their meals. In most cases, people tend to have very a high expectation for these highly rated restaurants. But the reality is that some of these restaurants may be overrated and the dining experience is not as pleasant as the website described. There are several reasons why a restaurant could be overrated. It might be that the restaurant is literally bad but happened to be rated by a very small group of people with high tolerance. It might also be due to intentional exaggeration by other raters for their own sake regardless of the restaurant's actual quality.\n\nOn the other hand, some restaurants may be underrated, even if they provide very good food and service at a relatively cheap price. When people just had a meal in these restaurants, they could only wish that they had known these restaurants much earlier.\n\nGiven that the on-line ratings might be misleading and could result in unwise choice of restaurants, it is important to build a system to detect the highly overrated and highly underrated restaurants around a location. Providing a list of these restaurants would benefit food lovers as they could avoid the overrated restaurants and try some of the underrated ones to have a better dining experience in the future.\n\nIn order to detect overrated and underrated restaurants, we are going to use the Foursquare API to **explore** the potential restaurants around a location (default is North York, ON). After getting their venue IDs, we will collect **venues** information of each restaurant, including **price**,  the count of **likes**, and their **rating**. Finally, we are going to utilize the multiple linear regression algorithm to make predictions to complete the task.", 
            "cell_type": "markdown", 
            "metadata": {}
        }, 
        {
            "source": "### 2. Data", 
            "cell_type": "markdown", 
            "metadata": {}
        }, 
        {
            "source": "First, we will get the latitude and longitude of a location (default is North York, ON).  \n\nSecond, we are going to use the **explore** function of Foursquare API to extract the venue IDs of recommended restaurants nearby.  \n\nThird, based on each venue ID, we will use the **venues** function to get details of each restaurant, including **price**,  the count of **likes**, and their **rating**. The first two features are going to be used to contruct our indepedent variables, and the last one is used as our dependent variable in our multiple linear regression model.", 
            "cell_type": "markdown", 
            "metadata": {}
        }, 
        {
            "source": "### 3. Methodology", 
            "cell_type": "markdown", 
            "metadata": {}
        }, 
        {
            "source": "#### 3.1. Exploratory data analysis", 
            "cell_type": "markdown", 
            "metadata": {}
        }, 
        {
            "source": "In exploratory analysis, we first get the descriptive statistics for **price**, **likes**, and **rating**. Next, we plot the relationship between **price** and **rating** as well as the relationship between **likes**, and **rating**. Both **price** and **likes** display a positive tend with **rating**. Finally, we compute the Pearson correlation coefficients and perform ANOVA test to confirm that the positive correlations between **price** and **rating** and between **likes** and **rating** are statistically significant. Specifically, we find that we find that the Pearson correlation coefficient between **price** and **rating** is 0.34749699 with a P-value of 0.01934093 and the Pearson coefficient between the count of **likes** and **rating** is 0.51489608 with a P-value of 0.00029580.", 
            "cell_type": "markdown", 
            "metadata": {}
        }, 
        {
            "source": "#### 3.2. Machine learning - multiple linear regression", 
            "cell_type": "markdown", 
            "metadata": {}
        }, 
        {
            "source": "To detect overrating and underrating of a restaurant, we need to figure out the predicted rating of a restaurant and compare its actual rating with its predicted rating. Since both **price** and **likes** are significantly correlated with **rating**, we employ the multiple linear regression algorithm by using **price** and **likes** as independent variables and **rating** as dependent variable.  \n\nSpecifically, we first split the dataset into training and testing sets respectively, and train the model with the training set and test it with the testing set. The multiple linear function we get in the example of North York, ON, is: **rating** = 6.18032919 + 0.39078905 x **price** + 0.00811921 x **likes**. With that, we can easily estimate the predicted rating for each restaurant in our sample.", 
            "cell_type": "markdown", 
            "metadata": {}
        }, 
        {
            "source": "### 4. Results", 
            "cell_type": "markdown", 
            "metadata": {}
        }, 
        {
            "source": "After getting the predicted rating of each restaurant, we can then compare it with the actual rating of the restaurant. If a restaurant's actual rating is higher than its predicted rating, we classify that restaurant as overrated. On the contrary, if the actual rating is lower than the predicted rating, we treat label the restaurant as underrated.  \n\nIn the list of overrated restaurants, \"Buk Chang Dong Soon Tofu \ubd81\ucc3d\ub3d9 \uc21c\ub450\ubd80 \ub3cc\uc1a5\ubc25\", \"MYMY Chicken\", \"Aroma Espresso Bar\", \"The Fry\", and \"Pizzaiolo\" are on the top, meaning that these restaurants are the most overrated restaurants in North York, ON. In the list of underrrated restaurants, \"Oh Geul Boh Geul \uc624\uae00\ubcf4\uae00\", \"Jack Astor's Bar & Grill\", \"Bar Koyoi\", \"Pho 88 Vietnamese Cuisine\", and \"Kiyomizu Japanese Restaurant\" are on the top, indicating that these restaurants are the most underrated.\n\nWe can also visualize these most mis-rated restaurants on the leaflet map using the **Folium** library.", 
            "cell_type": "markdown", 
            "metadata": {}
        }, 
        {
            "source": "### 5. Discussion", 
            "cell_type": "markdown", 
            "metadata": {}
        }, 
        {
            "source": "In order to predict restaurant **rating**, we use **price** and the count of **likes** as two independent variables. We argue that pricey restaurants tend to receive higher ratings due to higher food and service quality. And people also tend to give higher ratings to a restaurant that they have liked. Pearson statistics confirm our predictions, as we find that the Pearson correlation coefficient between **price** and **rating** is 0.34749699 with a P-value of 0.01934093 and the Pearson coefficient between the count of **likes** and **rating** is 0.51489608 with a P-value of 0.00029580.\n\nWhen fitting data of North York, ON, our multiple linear function is: **rating** = 6.18032919 + 0.39078905 x **price** + 0.00811921 x **likes**  \nThis model suggests that when the price jumps by 1 tier (e.g., from 2 to 3), the rating of the restaurant will on average increase by 0.39078905. Similarly, when one more user likes a restaurant, the rating of that restaurant is expected to increase by 0.00811921.\n\nOur results indicate that around nearly half of our sample restaurants are overrated (48.89%) and the other half are underrated (48.89%). When diving into details of those mis-rated restaurants, we find that Korean restaurants tend to be overrated while many Japanese restaurants are underrated.\n\nAn interesting phenomenon to notice on the map created by the **Folium** liabrary is that almost all top overrated and underrated restaurants in North York are on the Yonge Street. Given that Yonge street is one of Toronto's main streets, there is no doubt that its passenger and customer flow is very heavy. Therefore, a great mass of people with diversified backgrounds may find it hard to reach a consensus when it comes to rate their loved restaurants.\n\nAlthough our model works relatively well in making predictions using the current dataset, it is also subject to caveats. First, there may be other features that can also influence restaurant ratings but are not included as independent variables in our model. For example, the eating habits of local people are not captured by our model in making rating predictions. If the majority of local people love seafood, then seafood restaurants would receive higher ratings than, say, vegetarian restaurants. Second, the coefficients on **price** and **likes** may change when training the data of restaurants in other places of the world. Therefore, readers should interpret our results with caution.  ", 
            "cell_type": "markdown", 
            "metadata": {}
        }, 
        {
            "source": "### 6. Conclusion", 
            "cell_type": "markdown", 
            "metadata": {}
        }, 
        {
            "source": "In this capstone project, we try to detect the most overrated and underrated restaurants around a place (by default, we use the location: North York, ON). To complete the task, we first use the explore function of Foursquare API to extract the venue IDs of recommended restaurants around North York, ON. Based on each venue ID, we use the venues function to get details of each restaurant, including **price**, the count of **likes**, and their **rating**. Statistical inferencing tests include Pearson correlation and ANOVA test confirm that **price** and **likes** are positively and signficantly correlated with **rating** in our sample restaurants. This is consistent with the argument that pricey restaurants tend to receive higher ratings due to higher food and service quality, and that people also tend to give higher ratings to a restaurant that they have liked.  \n\nNext, we build a multiple linear regression model by using price and likes as independent variables and rating as dependent variable. After training and testing the model, we then estimate the predicted rating for each restaurant in our sample. If a restaurant's actual rating is higher than its predicted rating, we classify that restaurant as overrated. On the contrary, if the actual rating is lower than the predicted rating, we treat label the restaurant as underrated. Finally, we select the most overrated and the most underrated restaurants and visualize them on the leaflet map using the **Folium** library.\n\nWe find that in North York, ON, nearly half of restaurants are overrated and the other half are underrated. Specifically, \"Buk Chang Dong Soon Tofu \ubd81\ucc3d\ub3d9 \uc21c\ub450\ubd80 \ub3cc\uc1a5\ubc25\", \"MYMY Chicken\", \"Aroma Espresso Bar\", \"The Fry\", and \"Pizzaiolo\" are amongst the most overrated restaurants in North York, ON., whereas \"Oh Geul Boh Geul \uc624\uae00\ubcf4\uae00\", \"Jack Astor's Bar & Grill\", \"Bar Koyoi\", \"Pho 88 Vietnamese Cuisine\", and \"Kiyomizu Japanese Restaurant\" are the most underrated. In addition, almost all top overrated and underrated restaurants are on the Yonge street.  \n\nOur results would benefit people when it comes to restaurant selection, especially for those who are used to referring to online ratings for recommendations. Food lovers could potentially avoid the overrated restaurants and try underrated ones (with high ratings) to improve their dining experience. Interested readers can easily replace the default area (i.e., North York, ON) with their current location, and detect the overrated and underrated restaurants near themselves. However, one needs to be aware that switching locations could lead to different model fitting and should make relevant adjustments, where appropriate.", 
            "cell_type": "markdown", 
            "metadata": {}
        }, 
        {
            "execution_count": null, 
            "cell_type": "code", 
            "metadata": {}, 
            "outputs": [], 
            "source": ""
        }
    ], 
    "metadata": {
        "kernelspec": {
            "display_name": "Python 3", 
            "name": "python3", 
            "language": "python"
        }, 
        "language_info": {
            "mimetype": "text/x-python", 
            "nbconvert_exporter": "python", 
            "version": "3.6.5", 
            "name": "python", 
            "file_extension": ".py", 
            "pygments_lexer": "ipython3", 
            "codemirror_mode": {
                "version": 3, 
                "name": "ipython"
            }
        }
    }, 
    "nbformat": 4
}